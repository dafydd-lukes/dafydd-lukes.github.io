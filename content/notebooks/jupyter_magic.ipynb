{
 "cells": [
  {
   "cell_type": "markdown",
   "metadata": {},
   "source": [
    "Python-based [Jupyter](http://jupyter.org/) notebooks mostly consist of Python code, obviously, and some Markdown text. But they also offer some very handy functions and shortcuts which are not available in Python itself, and which are really helpful for interactive work. This is my personal best of / reference.\n",
    "\n",
    "**NB:** Most of the following also applies to the [IPython REPL](https://ipython.org/).\n",
    "\n",
    "The shortcuts fall into two groups:\n",
    "\n",
    "- **magics**: special functions with special syntax whose names start with `%` (in which case they apply to the rest of the line → \"line magics\") or `%%` (in which case they apply to the entire cell → \"cell magics\")\n",
    "- **command line programs**: if you know how to use command line programs, you can do so directly from the notebook by prefixing the command line invocation with `!`\n",
    "\n",
    "## Magics\n",
    "\n",
    "The syntax of magic functions is modeled after the syntax of command line programs:\n",
    "\n",
    "- to call them, just write their name and evaluate the cell, without any parentheses (unlike regular Python functions, which are called like this: `function()`)\n",
    "- arguments are separated just by whitespace (in Python, there are commas: `function(arg1, arg)`)\n",
    "- some have optional arguments (**options**) which tweak their behavior: these are formed by a hyphen and a letter, e.g. `-r`\n",
    "\n",
    "### Getting help\n",
    "\n",
    "You can read more about the magic function system by calling the `%magic` magic:"
   ]
  },
  {
   "cell_type": "code",
   "execution_count": 1,
   "metadata": {},
   "outputs": [],
   "source": [
    "%magic"
   ]
  },
  {
   "cell_type": "markdown",
   "metadata": {},
   "source": [
    "`%quickref` brings up a useful cheat sheet of special functionality:"
   ]
  },
  {
   "cell_type": "code",
   "execution_count": 2,
   "metadata": {},
   "outputs": [],
   "source": [
    "%quickref"
   ]
  },
  {
   "cell_type": "markdown",
   "metadata": {},
   "source": [
    "If you want more information about an object, `%pinfo` and `%pinfo2` are your friends:"
   ]
  },
  {
   "cell_type": "code",
   "execution_count": 3,
   "metadata": {},
   "outputs": [],
   "source": [
    "def foo():\n",
    "    \"This foo function returns bar.\"\n",
    "    return \"bar\""
   ]
  },
  {
   "cell_type": "code",
   "execution_count": 4,
   "metadata": {},
   "outputs": [],
   "source": [
    "# shows the object's docstring\n",
    "%pinfo foo"
   ]
  },
  {
   "cell_type": "code",
   "execution_count": 5,
   "metadata": {},
   "outputs": [],
   "source": [
    "# shows the full source code\n",
    "%pinfo2 foo"
   ]
  },
  {
   "cell_type": "markdown",
   "metadata": {},
   "source": [
    "These are so handy that they have their own special syntax: `?` and `??`, placed either before or after the object's name:"
   ]
  },
  {
   "cell_type": "code",
   "execution_count": 6,
   "metadata": {},
   "outputs": [],
   "source": [
    "?foo"
   ]
  },
  {
   "cell_type": "code",
   "execution_count": 7,
   "metadata": {},
   "outputs": [],
   "source": [
    "foo?"
   ]
  },
  {
   "cell_type": "code",
   "execution_count": 8,
   "metadata": {},
   "outputs": [],
   "source": [
    "??foo"
   ]
  },
  {
   "cell_type": "code",
   "execution_count": 9,
   "metadata": {},
   "outputs": [],
   "source": [
    "foo??"
   ]
  },
  {
   "cell_type": "markdown",
   "metadata": {},
   "source": [
    "Of course, this also works with magic functions:"
   ]
  },
  {
   "cell_type": "code",
   "execution_count": 10,
   "metadata": {},
   "outputs": [],
   "source": [
    "?%pylab"
   ]
  },
  {
   "cell_type": "markdown",
   "metadata": {},
   "source": [
    "### Manipulating objects\n",
    "\n",
    "The appeal of an interactive environment like Jupyter is that you can inspect any object you're working with by just evaluating it:"
   ]
  },
  {
   "cell_type": "code",
   "execution_count": 11,
   "metadata": {},
   "outputs": [],
   "source": [
    "foo = 1"
   ]
  },
  {
   "cell_type": "code",
   "execution_count": 12,
   "metadata": {},
   "outputs": [
    {
     "data": {
      "text/plain": [
       "1"
      ]
     },
     "execution_count": 12,
     "metadata": {},
     "output_type": "execute_result"
    }
   ],
   "source": [
    "foo"
   ]
  },
  {
   "cell_type": "markdown",
   "metadata": {},
   "source": [
    "`%who` and `%whos` will show you all the objects you've defined:"
   ]
  },
  {
   "cell_type": "code",
   "execution_count": 13,
   "metadata": {},
   "outputs": [
    {
     "name": "stdout",
     "output_type": "stream",
     "text": [
      "foo\t \n"
     ]
    }
   ],
   "source": [
    "%who"
   ]
  },
  {
   "cell_type": "code",
   "execution_count": 14,
   "metadata": {},
   "outputs": [
    {
     "name": "stdout",
     "output_type": "stream",
     "text": [
      "Variable   Type    Data/Info\n",
      "----------------------------\n",
      "foo        int     1\n"
     ]
    }
   ],
   "source": [
    "%whos"
   ]
  },
  {
   "cell_type": "markdown",
   "metadata": {},
   "source": [
    "Sometimes though, these objects are large and you don't want to litter your notebook with tons of output you'll delete right afterwards. (Also, if you forget to delete it, your notebook might get [too large to save](https://github.com/jupyter/notebook/issues/650).) That's when you need to use the Jupyter pager, which lets you inspect an object in a separate window."
   ]
  },
  {
   "cell_type": "code",
   "execution_count": 15,
   "metadata": {},
   "outputs": [],
   "source": [
    "foo = \"This is a line of text.\\n\" * 1000"
   ]
  },
  {
   "cell_type": "code",
   "execution_count": 16,
   "metadata": {},
   "outputs": [],
   "source": [
    "%page foo"
   ]
  },
  {
   "cell_type": "markdown",
   "metadata": {},
   "source": [
    "By default, the pager pretty-prints objects using the `pprint()` function from the `pprint` module. This is handy for collections, because it nicely shows the nesting hierarchy, but not so much for strings, because special characters like newlines `\\n` are shown as escape sequences. If you want the string to look like it would if it were a text file, pass the `-r` option (\"raw\") to page through the result of calling `str()` on the object instead:"
   ]
  },
  {
   "cell_type": "code",
   "execution_count": 17,
   "metadata": {},
   "outputs": [],
   "source": [
    "%page -r foo"
   ]
  },
  {
   "cell_type": "markdown",
   "metadata": {},
   "source": [
    "If you want to inspect the source code of a module, use `%pfile` on the object representing that module, or an object imported from that module:"
   ]
  },
  {
   "cell_type": "code",
   "execution_count": 18,
   "metadata": {},
   "outputs": [],
   "source": [
    "import os\n",
    "from random import choice"
   ]
  },
  {
   "cell_type": "code",
   "execution_count": 19,
   "metadata": {},
   "outputs": [],
   "source": [
    "%pfile os"
   ]
  },
  {
   "cell_type": "code",
   "execution_count": 20,
   "metadata": {},
   "outputs": [],
   "source": [
    "%pfile choice"
   ]
  },
  {
   "cell_type": "markdown",
   "metadata": {},
   "source": [
    "Sometimes, you create an object which you know you will want to reuse in a different session or maybe in a completely different notebook. A lightweight way to achieve this is using the `%store` magic:"
   ]
  },
  {
   "cell_type": "code",
   "execution_count": 21,
   "metadata": {},
   "outputs": [
    {
     "name": "stdout",
     "output_type": "stream",
     "text": [
      "Stored 'foo' (str)\n"
     ]
    }
   ],
   "source": [
    "%store foo"
   ]
  },
  {
   "cell_type": "markdown",
   "metadata": {},
   "source": [
    "You can list the values stored in your database by invoking `%store` without arguments:"
   ]
  },
  {
   "cell_type": "code",
   "execution_count": 22,
   "metadata": {},
   "outputs": [
    {
     "name": "stdout",
     "output_type": "stream",
     "text": [
      "Stored variables and their in-db values:\n",
      "foo             -> 'This is a line of text.\\nThis is a line of text.\\\n"
     ]
    }
   ],
   "source": [
    "%store"
   ]
  },
  {
   "cell_type": "markdown",
   "metadata": {},
   "source": [
    "To restore a variable from the database into your current Python process, use the `-r` option:"
   ]
  },
  {
   "cell_type": "code",
   "execution_count": 23,
   "metadata": {},
   "outputs": [],
   "source": [
    "# restores only `foo`\n",
    "%store -r foo"
   ]
  },
  {
   "cell_type": "code",
   "execution_count": 24,
   "metadata": {},
   "outputs": [],
   "source": [
    "# restores all variables in the database\n",
    "%store -r foo"
   ]
  },
  {
   "cell_type": "markdown",
   "metadata": {},
   "source": [
    "And this is how you clear no longer needed variables from storage:"
   ]
  },
  {
   "cell_type": "code",
   "execution_count": 25,
   "metadata": {},
   "outputs": [],
   "source": [
    "# removes `foo`\n",
    "%store -d foo"
   ]
  },
  {
   "cell_type": "code",
   "execution_count": 26,
   "metadata": {},
   "outputs": [],
   "source": [
    "# removes all variables\n",
    "%store -z"
   ]
  },
  {
   "cell_type": "code",
   "execution_count": 27,
   "metadata": {},
   "outputs": [
    {
     "name": "stdout",
     "output_type": "stream",
     "text": [
      "Stored variables and their in-db values:\n"
     ]
    }
   ],
   "source": [
    "%store"
   ]
  },
  {
   "cell_type": "markdown",
   "metadata": {},
   "source": [
    "### Working with the file system\n",
    "\n",
    "`%ls` lists files in the directory where your notebook is stored:"
   ]
  },
  {
   "cell_type": "code",
   "execution_count": 28,
   "metadata": {},
   "outputs": [
    {
     "name": "stdout",
     "output_type": "stream",
     "text": [
      "classification.ipynb      foo.py               regex.ipynb\r\n",
      "cmudict.ipynb             jupyter_magic.ipynb  unicode.ipynb\r\n",
      "collocations.ipynb        libraries.ipynb      xcorr_vs_conv.ipynb\r\n",
      "command_line_intro.ipynb  pos_tagging.ipynb    zipf.ipynb\r\n"
     ]
    }
   ],
   "source": [
    "%ls"
   ]
  },
  {
   "cell_type": "markdown",
   "metadata": {},
   "source": [
    "If you provide a path as argument, it lists that directory instead:"
   ]
  },
  {
   "cell_type": "code",
   "execution_count": 29,
   "metadata": {},
   "outputs": [
    {
     "name": "stdout",
     "output_type": "stream",
     "text": [
      "\u001b[0m\u001b[01;34mconf.d\u001b[0m/         koi-utf     nginx.conf    \u001b[01;34msites-available\u001b[0m/  uwsgi_params\r\n",
      "fastcgi.conf    koi-win     proxy_params  \u001b[01;34msites-enabled\u001b[0m/    win-utf\r\n",
      "fastcgi_params  mime.types  scgi_params   \u001b[01;34msnippets\u001b[0m/\r\n"
     ]
    }
   ],
   "source": [
    "%ls /etc/nginx"
   ]
  },
  {
   "cell_type": "markdown",
   "metadata": {},
   "source": [
    "If you provide a [glob pattern](https://en.wikipedia.org/wiki/Glob_%28programming%29), then only files that match it are listed:"
   ]
  },
  {
   "cell_type": "code",
   "execution_count": 30,
   "metadata": {},
   "outputs": [
    {
     "name": "stdout",
     "output_type": "stream",
     "text": [
      "/etc/nginx/fastcgi.conf  /etc/nginx/nginx.conf\r\n"
     ]
    }
   ],
   "source": [
    "%ls /etc/nginx/*.conf"
   ]
  },
  {
   "cell_type": "markdown",
   "metadata": {},
   "source": [
    "`%ll` adds more information to the listing and formats it in a single column:"
   ]
  },
  {
   "cell_type": "code",
   "execution_count": 31,
   "metadata": {},
   "outputs": [
    {
     "name": "stdout",
     "output_type": "stream",
     "text": [
      "total 12805\r\n",
      "drwxrwsrwt+  3 lukes 2000140 Oct  4 18:52 \u001b[0m\u001b[30;42mexchange\u001b[0m/\r\n",
      "drwxrwsr-x+ 21 lukes 2041640 Oct 24 14:44 \u001b[01;34mlukes\u001b[0m/\r\n",
      "drwxrwsr-x+  9 lukes 2060567 Dec 18 21:54 \u001b[01;34mmda\u001b[0m/\r\n",
      "drwxrwsr-x+ 14 lukes 3001102 Oct 31 17:39 \u001b[01;34mpython\u001b[0m/\r\n",
      "drwxrwsr-x+  4 lukes 2004559 Feb 23  2017 \u001b[01;34mr\u001b[0m/\r\n",
      "drwxr-sr-x+  4 lukes 2002420 Mar  9  2017 \u001b[01;34mtextlink\u001b[0m/\r\n"
     ]
    }
   ],
   "source": [
    "%ll ~/edu/"
   ]
  },
  {
   "cell_type": "markdown",
   "metadata": {},
   "source": [
    "One of those columns indicates file size, but it's kind of hard to tell. The `-h` option makes the file sizes print in human-readable format:"
   ]
  },
  {
   "cell_type": "code",
   "execution_count": 32,
   "metadata": {},
   "outputs": [
    {
     "name": "stdout",
     "output_type": "stream",
     "text": [
      "-rw-rw-r--+ 1 lukes 1.5G Nov  1  2016 /home/lukes/edu/python/syn2015.gz\r\n",
      "-rw-rw-r--+ 1 lukes 112M Nov  2  2016 /home/lukes/edu/python/syn2015_sample\r\n"
     ]
    }
   ],
   "source": [
    "%ll -h ~/edu/python/syn*"
   ]
  },
  {
   "cell_type": "markdown",
   "metadata": {},
   "source": [
    "`%%writefile` writes the contents of a cell to a file:"
   ]
  },
  {
   "cell_type": "code",
   "execution_count": 33,
   "metadata": {
    "scrolled": true
   },
   "outputs": [
    {
     "name": "stdout",
     "output_type": "stream",
     "text": [
      "Overwriting foo.py\n"
     ]
    }
   ],
   "source": [
    "%%writefile foo.py\n",
    "def foo():\n",
    "    \"This foo function returns bar.\"\n",
    "    return \"bar\""
   ]
  },
  {
   "cell_type": "markdown",
   "metadata": {},
   "source": [
    "`%cat` prints the contents of a file into the notebook:"
   ]
  },
  {
   "cell_type": "code",
   "execution_count": 34,
   "metadata": {},
   "outputs": [
    {
     "name": "stdout",
     "output_type": "stream",
     "text": [
      "def foo():\r\n",
      "    \"This foo function returns bar.\"\r\n",
      "    return \"bar\""
     ]
    }
   ],
   "source": [
    "%cat foo.py"
   ]
  },
  {
   "cell_type": "markdown",
   "metadata": {},
   "source": [
    "`%less` opens it in the pager (with nice syntax highlighting if it's a Python source file):"
   ]
  },
  {
   "cell_type": "code",
   "execution_count": 35,
   "metadata": {},
   "outputs": [],
   "source": [
    "%less foo.py"
   ]
  },
  {
   "cell_type": "markdown",
   "metadata": {},
   "source": [
    "### Finding out more about your code\n",
    "\n",
    "When developing, code often behaves differently from what you intended when you wrote it. These tools will help you find out why.\n",
    "\n",
    "Timing the execution of a piece of code will help you determine if it's slowing you down. The `%timeit` magic has your back, it runs your code repeatedly and thus provides more reliable estimates. It comes in both line and cell variants."
   ]
  },
  {
   "cell_type": "code",
   "execution_count": 36,
   "metadata": {},
   "outputs": [
    {
     "name": "stdout",
     "output_type": "stream",
     "text": [
      "57.8 ms ± 2.95 ms per loop (mean ± std. dev. of 7 runs, 10 loops each)\n"
     ]
    }
   ],
   "source": [
    "%timeit sorted(range(1_000_000))"
   ]
  },
  {
   "cell_type": "code",
   "execution_count": 37,
   "metadata": {},
   "outputs": [
    {
     "name": "stdout",
     "output_type": "stream",
     "text": [
      "66.5 ms ± 6.87 ms per loop (mean ± std. dev. of 7 runs, 10 loops each)\n"
     ]
    }
   ],
   "source": [
    "%%timeit\n",
    "lst = list(range(1_000_000))\n",
    "sorted(lst)"
   ]
  },
  {
   "cell_type": "markdown",
   "metadata": {},
   "source": [
    "The cell variant can include initialization code on the first line, which is run only once:"
   ]
  },
  {
   "cell_type": "code",
   "execution_count": 38,
   "metadata": {},
   "outputs": [
    {
     "name": "stdout",
     "output_type": "stream",
     "text": [
      "The slowest run took 7.75 times longer than the fastest. This could mean that an intermediate result is being cached.\n",
      "65.4 ms ± 64.8 ms per loop (mean ± std. dev. of 7 runs, 1 loop each)\n"
     ]
    }
   ],
   "source": [
    "%%timeit lst = list(range(1_000_000))\n",
    "sorted(lst)"
   ]
  },
  {
   "cell_type": "markdown",
   "metadata": {},
   "source": [
    "If you have the [memory_profiler](https://github.com/pythonprofilers/memory_profiler) library installed, you can load its magic extension and use `%memit` in the same way as `%timeit` to get a notion of how much memory your code is consuming."
   ]
  },
  {
   "cell_type": "code",
   "execution_count": 39,
   "metadata": {},
   "outputs": [],
   "source": [
    "%load_ext memory_profiler"
   ]
  },
  {
   "cell_type": "code",
   "execution_count": 40,
   "metadata": {},
   "outputs": [
    {
     "name": "stdout",
     "output_type": "stream",
     "text": [
      "peak memory: 81.93 MiB, increment: 35.19 MiB\n"
     ]
    }
   ],
   "source": [
    "# peak memory is the highest total amount of memory the Python process used when your code ran\n",
    "# increment is peak memory minus the amount of memory Python used before your code ran\n",
    "%memit list(range(1_000_000))"
   ]
  },
  {
   "cell_type": "code",
   "execution_count": 41,
   "metadata": {},
   "outputs": [
    {
     "name": "stdout",
     "output_type": "stream",
     "text": [
      "peak memory: 128.00 MiB, increment: 73.29 MiB\n"
     ]
    }
   ],
   "source": [
    "%%memit\n",
    "lst = list(range(1_000_000))\n",
    "even = [i for i in lst if i % 2 == 0]"
   ]
  },
  {
   "cell_type": "code",
   "execution_count": 42,
   "metadata": {},
   "outputs": [
    {
     "name": "stdout",
     "output_type": "stream",
     "text": [
      "peak memory: 98.03 MiB, increment: -30.64 MiB\n"
     ]
    }
   ],
   "source": [
    "%%memit lst = list(range(1_000_000))\n",
    "even = [i for i in lst if i % 2 == 0]"
   ]
  },
  {
   "cell_type": "markdown",
   "metadata": {},
   "source": [
    "If you have a more involved piece of code where multiple functions are called, you may need more granular information about running times than that provided by `%timeit`. In that case, you can resort to **profiling** using the `%prun` magic. Profiling tells you how fast different parts of your code run relative to each other, in other words, where your bottlenecks are."
   ]
  },
  {
   "cell_type": "code",
   "execution_count": 43,
   "metadata": {},
   "outputs": [],
   "source": [
    "import time\n",
    "\n",
    "def really_slow():\n",
    "    time.sleep(1)\n",
    "\n",
    "def fast():\n",
    "    pass\n",
    "\n",
    "def only_slow_because_it_calls_another_slow_function():\n",
    "    fast()\n",
    "    really_slow()"
   ]
  },
  {
   "cell_type": "code",
   "execution_count": 44,
   "metadata": {},
   "outputs": [
    {
     "name": "stdout",
     "output_type": "stream",
     "text": [
      " "
     ]
    }
   ],
   "source": [
    "%prun only_slow_because_it_calls_another_slow_function()"
   ]
  },
  {
   "cell_type": "markdown",
   "metadata": {},
   "source": [
    "The results show up in the pager, here's a copy:\n",
    "\n",
    "```\n",
    "         7 function calls in 1.001 seconds\n",
    "\n",
    "   Ordered by: internal time\n",
    "\n",
    "   ncalls  tottime  percall  cumtime  percall filename:lineno(function)\n",
    "        1    1.001    1.001    1.001    1.001 {built-in method time.sleep}\n",
    "        1    0.000    0.000    1.001    1.001 {built-in method builtins.exec}\n",
    "        1    0.000    0.000    1.001    1.001 <ipython-input-81-8d3b1f67a0d9>:3(really_slow)\n",
    "        1    0.000    0.000    1.001    1.001 <ipython-input-81-8d3b1f67a0d9>:9(only_slow_because_it_calls_another_slow_function)\n",
    "        1    0.000    0.000    1.001    1.001 <string>:1(<module>)\n",
    "        1    0.000    0.000    0.000    0.000 <ipython-input-81-8d3b1f67a0d9>:6(fast)\n",
    "        1    0.000    0.000    0.000    0.000 {method 'disable' of '_lsprof.Profiler' objects}\n",
    "```\n",
    "\n",
    "`%prun` also has a cell variant:"
   ]
  },
  {
   "cell_type": "code",
   "execution_count": 45,
   "metadata": {},
   "outputs": [
    {
     "name": "stdout",
     "output_type": "stream",
     "text": [
      " "
     ]
    }
   ],
   "source": [
    "%%prun\n",
    "really_slow()\n",
    "fast()"
   ]
  },
  {
   "cell_type": "markdown",
   "metadata": {},
   "source": [
    "```\n",
    "         6 function calls in 1.001 seconds\n",
    "\n",
    "   Ordered by: internal time\n",
    "\n",
    "   ncalls  tottime  percall  cumtime  percall filename:lineno(function)\n",
    "        1    1.001    1.001    1.001    1.001 {built-in method time.sleep}\n",
    "        1    0.000    0.000    1.001    1.001 {built-in method builtins.exec}\n",
    "        1    0.000    0.000    1.001    1.001 <string>:2(<module>)\n",
    "        1    0.000    0.000    1.001    1.001 <ipython-input-81-8d3b1f67a0d9>:3(really_slow)\n",
    "        1    0.000    0.000    0.000    0.000 <ipython-input-81-8d3b1f67a0d9>:6(fast)\n",
    "        1    0.000    0.000    0.000    0.000 {method 'disable' of '_lsprof.Profiler' objects}\n",
    "```"
   ]
  },
  {
   "cell_type": "markdown",
   "metadata": {},
   "source": [
    "Perhaps the most useful magic for development is `%debug`, which allows you to pause the execution of a piece of code, examine the variables which are defined at that moment in time, resume execution fully or step-by-step etc. You can either pass a statement that you want to debug as argument:"
   ]
  },
  {
   "cell_type": "code",
   "execution_count": 46,
   "metadata": {},
   "outputs": [],
   "source": [
    "def foo():\n",
    "    for i in range(10):\n",
    "        print(i)"
   ]
  },
  {
   "cell_type": "code",
   "execution_count": 47,
   "metadata": {},
   "outputs": [
    {
     "name": "stdout",
     "output_type": "stream",
     "text": [
      "NOTE: Enter 'c' at the ipdb>  prompt to continue execution.\n",
      "> \u001b[0;32m<string>\u001b[0m(1)\u001b[0;36m<module>\u001b[0;34m()\u001b[0m\n",
      "\n",
      "ipdb> help\n",
      "\n",
      "Documented commands (type help <topic>):\n",
      "========================================\n",
      "EOF    cl         disable  interact  next    psource  rv         unt   \n",
      "a      clear      display  j         p       q        s          until \n",
      "alias  commands   down     jump      pdef    quit     source     up    \n",
      "args   condition  enable   l         pdoc    r        step       w     \n",
      "b      cont       exit     list      pfile   restart  tbreak     whatis\n",
      "break  continue   h        ll        pinfo   return   u          where \n",
      "bt     d          help     longlist  pinfo2  retval   unalias  \n",
      "c      debug      ignore   n         pp      run      undisplay\n",
      "\n",
      "Miscellaneous help topics:\n",
      "==========================\n",
      "exec  pdb\n",
      "\n",
      "ipdb> step\n",
      "--Call--\n",
      "> \u001b[0;32m<ipython-input-46-53239d7f8950>\u001b[0m(1)\u001b[0;36mfoo\u001b[0;34m()\u001b[0m\n",
      "\u001b[0;32m----> 1 \u001b[0;31m\u001b[0;32mdef\u001b[0m \u001b[0mfoo\u001b[0m\u001b[0;34m(\u001b[0m\u001b[0;34m)\u001b[0m\u001b[0;34m:\u001b[0m\u001b[0;34m\u001b[0m\u001b[0m\n",
      "\u001b[0m\u001b[0;32m      2 \u001b[0;31m    \u001b[0;32mfor\u001b[0m \u001b[0mi\u001b[0m \u001b[0;32min\u001b[0m \u001b[0mrange\u001b[0m\u001b[0;34m(\u001b[0m\u001b[0;36m10\u001b[0m\u001b[0;34m)\u001b[0m\u001b[0;34m:\u001b[0m\u001b[0;34m\u001b[0m\u001b[0m\n",
      "\u001b[0m\u001b[0;32m      3 \u001b[0;31m        \u001b[0mprint\u001b[0m\u001b[0;34m(\u001b[0m\u001b[0mi\u001b[0m\u001b[0;34m)\u001b[0m\u001b[0;34m\u001b[0m\u001b[0m\n",
      "\u001b[0m\n",
      "ipdb> next\n",
      "> \u001b[0;32m<ipython-input-46-53239d7f8950>\u001b[0m(2)\u001b[0;36mfoo\u001b[0;34m()\u001b[0m\n",
      "\u001b[0;32m      1 \u001b[0;31m\u001b[0;32mdef\u001b[0m \u001b[0mfoo\u001b[0m\u001b[0;34m(\u001b[0m\u001b[0;34m)\u001b[0m\u001b[0;34m:\u001b[0m\u001b[0;34m\u001b[0m\u001b[0m\n",
      "\u001b[0m\u001b[0;32m----> 2 \u001b[0;31m    \u001b[0;32mfor\u001b[0m \u001b[0mi\u001b[0m \u001b[0;32min\u001b[0m \u001b[0mrange\u001b[0m\u001b[0;34m(\u001b[0m\u001b[0;36m10\u001b[0m\u001b[0;34m)\u001b[0m\u001b[0;34m:\u001b[0m\u001b[0;34m\u001b[0m\u001b[0m\n",
      "\u001b[0m\u001b[0;32m      3 \u001b[0;31m        \u001b[0mprint\u001b[0m\u001b[0;34m(\u001b[0m\u001b[0mi\u001b[0m\u001b[0;34m)\u001b[0m\u001b[0;34m\u001b[0m\u001b[0m\n",
      "\u001b[0m\n",
      "ipdb> next\n",
      "> \u001b[0;32m<ipython-input-46-53239d7f8950>\u001b[0m(3)\u001b[0;36mfoo\u001b[0;34m()\u001b[0m\n",
      "\u001b[0;32m      1 \u001b[0;31m\u001b[0;32mdef\u001b[0m \u001b[0mfoo\u001b[0m\u001b[0;34m(\u001b[0m\u001b[0;34m)\u001b[0m\u001b[0;34m:\u001b[0m\u001b[0;34m\u001b[0m\u001b[0m\n",
      "\u001b[0m\u001b[0;32m      2 \u001b[0;31m    \u001b[0;32mfor\u001b[0m \u001b[0mi\u001b[0m \u001b[0;32min\u001b[0m \u001b[0mrange\u001b[0m\u001b[0;34m(\u001b[0m\u001b[0;36m10\u001b[0m\u001b[0;34m)\u001b[0m\u001b[0;34m:\u001b[0m\u001b[0;34m\u001b[0m\u001b[0m\n",
      "\u001b[0m\u001b[0;32m----> 3 \u001b[0;31m        \u001b[0mprint\u001b[0m\u001b[0;34m(\u001b[0m\u001b[0mi\u001b[0m\u001b[0;34m)\u001b[0m\u001b[0;34m\u001b[0m\u001b[0m\n",
      "\u001b[0m\n",
      "ipdb> i\n",
      "0\n",
      "ipdb> next\n",
      "0\n",
      "> \u001b[0;32m<ipython-input-46-53239d7f8950>\u001b[0m(2)\u001b[0;36mfoo\u001b[0;34m()\u001b[0m\n",
      "\u001b[0;32m      1 \u001b[0;31m\u001b[0;32mdef\u001b[0m \u001b[0mfoo\u001b[0m\u001b[0;34m(\u001b[0m\u001b[0;34m)\u001b[0m\u001b[0;34m:\u001b[0m\u001b[0;34m\u001b[0m\u001b[0m\n",
      "\u001b[0m\u001b[0;32m----> 2 \u001b[0;31m    \u001b[0;32mfor\u001b[0m \u001b[0mi\u001b[0m \u001b[0;32min\u001b[0m \u001b[0mrange\u001b[0m\u001b[0;34m(\u001b[0m\u001b[0;36m10\u001b[0m\u001b[0;34m)\u001b[0m\u001b[0;34m:\u001b[0m\u001b[0;34m\u001b[0m\u001b[0m\n",
      "\u001b[0m\u001b[0;32m      3 \u001b[0;31m        \u001b[0mprint\u001b[0m\u001b[0;34m(\u001b[0m\u001b[0mi\u001b[0m\u001b[0;34m)\u001b[0m\u001b[0;34m\u001b[0m\u001b[0m\n",
      "\u001b[0m\n",
      "ipdb> next\n",
      "> \u001b[0;32m<ipython-input-46-53239d7f8950>\u001b[0m(3)\u001b[0;36mfoo\u001b[0;34m()\u001b[0m\n",
      "\u001b[0;32m      1 \u001b[0;31m\u001b[0;32mdef\u001b[0m \u001b[0mfoo\u001b[0m\u001b[0;34m(\u001b[0m\u001b[0;34m)\u001b[0m\u001b[0;34m:\u001b[0m\u001b[0;34m\u001b[0m\u001b[0m\n",
      "\u001b[0m\u001b[0;32m      2 \u001b[0;31m    \u001b[0;32mfor\u001b[0m \u001b[0mi\u001b[0m \u001b[0;32min\u001b[0m \u001b[0mrange\u001b[0m\u001b[0;34m(\u001b[0m\u001b[0;36m10\u001b[0m\u001b[0;34m)\u001b[0m\u001b[0;34m:\u001b[0m\u001b[0;34m\u001b[0m\u001b[0m\n",
      "\u001b[0m\u001b[0;32m----> 3 \u001b[0;31m        \u001b[0mprint\u001b[0m\u001b[0;34m(\u001b[0m\u001b[0mi\u001b[0m\u001b[0;34m)\u001b[0m\u001b[0;34m\u001b[0m\u001b[0m\n",
      "\u001b[0m\n",
      "ipdb> i\n",
      "1\n",
      "ipdb> quit\n"
     ]
    }
   ],
   "source": [
    "%debug foo()"
   ]
  },
  {
   "cell_type": "markdown",
   "metadata": {},
   "source": [
    "Or you can invoke plain `%debug` after an exception has been raised to jump directly to the place where the error occurred, so that you can figure out where things went wrong:"
   ]
  },
  {
   "cell_type": "code",
   "execution_count": 48,
   "metadata": {},
   "outputs": [],
   "source": [
    "def foo():\n",
    "    dct = dict(foo=1)\n",
    "    return dct[\"bar\"]"
   ]
  },
  {
   "cell_type": "code",
   "execution_count": 49,
   "metadata": {},
   "outputs": [
    {
     "ename": "KeyError",
     "evalue": "'bar'",
     "output_type": "error",
     "traceback": [
      "\u001b[0;31m---------------------------------------------------------------------------\u001b[0m",
      "\u001b[0;31mKeyError\u001b[0m                                  Traceback (most recent call last)",
      "\u001b[0;32m<ipython-input-49-c19b6d9633cf>\u001b[0m in \u001b[0;36m<module>\u001b[0;34m()\u001b[0m\n\u001b[0;32m----> 1\u001b[0;31m \u001b[0mfoo\u001b[0m\u001b[0;34m(\u001b[0m\u001b[0;34m)\u001b[0m\u001b[0;34m\u001b[0m\u001b[0m\n\u001b[0m",
      "\u001b[0;32m<ipython-input-48-29ed6ce0c4f1>\u001b[0m in \u001b[0;36mfoo\u001b[0;34m()\u001b[0m\n\u001b[1;32m      1\u001b[0m \u001b[0;32mdef\u001b[0m \u001b[0mfoo\u001b[0m\u001b[0;34m(\u001b[0m\u001b[0;34m)\u001b[0m\u001b[0;34m:\u001b[0m\u001b[0;34m\u001b[0m\u001b[0m\n\u001b[1;32m      2\u001b[0m     \u001b[0mdct\u001b[0m \u001b[0;34m=\u001b[0m \u001b[0mdict\u001b[0m\u001b[0;34m(\u001b[0m\u001b[0mfoo\u001b[0m\u001b[0;34m=\u001b[0m\u001b[0;36m1\u001b[0m\u001b[0;34m)\u001b[0m\u001b[0;34m\u001b[0m\u001b[0m\n\u001b[0;32m----> 3\u001b[0;31m     \u001b[0;32mreturn\u001b[0m \u001b[0mdct\u001b[0m\u001b[0;34m[\u001b[0m\u001b[0;34m\"bar\"\u001b[0m\u001b[0;34m]\u001b[0m\u001b[0;34m\u001b[0m\u001b[0m\n\u001b[0m",
      "\u001b[0;31mKeyError\u001b[0m: 'bar'"
     ]
    }
   ],
   "source": [
    "foo()"
   ]
  },
  {
   "cell_type": "code",
   "execution_count": 50,
   "metadata": {},
   "outputs": [
    {
     "name": "stdout",
     "output_type": "stream",
     "text": [
      "> \u001b[0;32m<ipython-input-48-29ed6ce0c4f1>\u001b[0m(3)\u001b[0;36mfoo\u001b[0;34m()\u001b[0m\n",
      "\u001b[0;32m      1 \u001b[0;31m\u001b[0;32mdef\u001b[0m \u001b[0mfoo\u001b[0m\u001b[0;34m(\u001b[0m\u001b[0;34m)\u001b[0m\u001b[0;34m:\u001b[0m\u001b[0;34m\u001b[0m\u001b[0m\n",
      "\u001b[0m\u001b[0;32m      2 \u001b[0;31m    \u001b[0mdct\u001b[0m \u001b[0;34m=\u001b[0m \u001b[0mdict\u001b[0m\u001b[0;34m(\u001b[0m\u001b[0mfoo\u001b[0m\u001b[0;34m=\u001b[0m\u001b[0;36m1\u001b[0m\u001b[0;34m)\u001b[0m\u001b[0;34m\u001b[0m\u001b[0m\n",
      "\u001b[0m\u001b[0;32m----> 3 \u001b[0;31m    \u001b[0;32mreturn\u001b[0m \u001b[0mdct\u001b[0m\u001b[0;34m[\u001b[0m\u001b[0;34m\"bar\"\u001b[0m\u001b[0;34m]\u001b[0m\u001b[0;34m\u001b[0m\u001b[0m\n",
      "\u001b[0m\n",
      "ipdb> \"bar\" in dct\n",
      "False\n",
      "ipdb> dct.keys()\n",
      "dict_keys(['foo'])\n",
      "ipdb> quit\n"
     ]
    }
   ],
   "source": [
    "%debug"
   ]
  },
  {
   "cell_type": "markdown",
   "metadata": {},
   "source": [
    "If you want to pause one of your functions at a particular point, set a *breakpoint* using the `set_trace()` function from the `IPython.core.debugger` module. The debugger will be automatically invoked when the call to `set_trace()` is reached during execution:"
   ]
  },
  {
   "cell_type": "code",
   "execution_count": 51,
   "metadata": {},
   "outputs": [],
   "source": [
    "from IPython.core.debugger import set_trace\n",
    "\n",
    "def foo():\n",
    "    for i in range(2):\n",
    "        set_trace()\n",
    "        print(i)"
   ]
  },
  {
   "cell_type": "code",
   "execution_count": 52,
   "metadata": {},
   "outputs": [
    {
     "name": "stdout",
     "output_type": "stream",
     "text": [
      "> \u001b[0;32m<ipython-input-51-127db6176edd>\u001b[0m(6)\u001b[0;36mfoo\u001b[0;34m()\u001b[0m\n",
      "\u001b[0;32m      2 \u001b[0;31m\u001b[0;34m\u001b[0m\u001b[0m\n",
      "\u001b[0m\u001b[0;32m      3 \u001b[0;31m\u001b[0;32mdef\u001b[0m \u001b[0mfoo\u001b[0m\u001b[0;34m(\u001b[0m\u001b[0;34m)\u001b[0m\u001b[0;34m:\u001b[0m\u001b[0;34m\u001b[0m\u001b[0m\n",
      "\u001b[0m\u001b[0;32m      4 \u001b[0;31m    \u001b[0;32mfor\u001b[0m \u001b[0mi\u001b[0m \u001b[0;32min\u001b[0m \u001b[0mrange\u001b[0m\u001b[0;34m(\u001b[0m\u001b[0;36m2\u001b[0m\u001b[0;34m)\u001b[0m\u001b[0;34m:\u001b[0m\u001b[0;34m\u001b[0m\u001b[0m\n",
      "\u001b[0m\u001b[0;32m      5 \u001b[0;31m        \u001b[0mset_trace\u001b[0m\u001b[0;34m(\u001b[0m\u001b[0;34m)\u001b[0m\u001b[0;34m\u001b[0m\u001b[0m\n",
      "\u001b[0m\u001b[0;32m----> 6 \u001b[0;31m        \u001b[0mprint\u001b[0m\u001b[0;34m(\u001b[0m\u001b[0mi\u001b[0m\u001b[0;34m)\u001b[0m\u001b[0;34m\u001b[0m\u001b[0m\n",
      "\u001b[0m\n",
      "ipdb> i\n",
      "0\n",
      "ipdb> continue\n",
      "0\n",
      "> \u001b[0;32m<ipython-input-51-127db6176edd>\u001b[0m(5)\u001b[0;36mfoo\u001b[0;34m()\u001b[0m\n",
      "\u001b[0;32m      2 \u001b[0;31m\u001b[0;34m\u001b[0m\u001b[0m\n",
      "\u001b[0m\u001b[0;32m      3 \u001b[0;31m\u001b[0;32mdef\u001b[0m \u001b[0mfoo\u001b[0m\u001b[0;34m(\u001b[0m\u001b[0;34m)\u001b[0m\u001b[0;34m:\u001b[0m\u001b[0;34m\u001b[0m\u001b[0m\n",
      "\u001b[0m\u001b[0;32m      4 \u001b[0;31m    \u001b[0;32mfor\u001b[0m \u001b[0mi\u001b[0m \u001b[0;32min\u001b[0m \u001b[0mrange\u001b[0m\u001b[0;34m(\u001b[0m\u001b[0;36m2\u001b[0m\u001b[0;34m)\u001b[0m\u001b[0;34m:\u001b[0m\u001b[0;34m\u001b[0m\u001b[0m\n",
      "\u001b[0m\u001b[0;32m----> 5 \u001b[0;31m        \u001b[0mset_trace\u001b[0m\u001b[0;34m(\u001b[0m\u001b[0;34m)\u001b[0m\u001b[0;34m\u001b[0m\u001b[0m\n",
      "\u001b[0m\u001b[0;32m      6 \u001b[0;31m        \u001b[0mprint\u001b[0m\u001b[0;34m(\u001b[0m\u001b[0mi\u001b[0m\u001b[0;34m)\u001b[0m\u001b[0;34m\u001b[0m\u001b[0m\n",
      "\u001b[0m\n",
      "ipdb> i\n",
      "1\n",
      "ipdb> continue\n",
      "1\n"
     ]
    }
   ],
   "source": [
    "foo()"
   ]
  },
  {
   "cell_type": "code",
   "execution_count": 54,
   "metadata": {},
   "outputs": [
    {
     "name": "stdout",
     "output_type": "stream",
     "text": [
      "> \u001b[0;32m<ipython-input-53-127db6176edd>\u001b[0m(6)\u001b[0;36mfoo\u001b[0;34m()\u001b[0m\n",
      "\u001b[0;32m      2 \u001b[0;31m\u001b[0;34m\u001b[0m\u001b[0m\n",
      "\u001b[0m\u001b[0;32m      3 \u001b[0;31m\u001b[0;32mdef\u001b[0m \u001b[0mfoo\u001b[0m\u001b[0;34m(\u001b[0m\u001b[0;34m)\u001b[0m\u001b[0;34m:\u001b[0m\u001b[0;34m\u001b[0m\u001b[0m\n",
      "\u001b[0m\u001b[0;32m      4 \u001b[0;31m    \u001b[0;32mfor\u001b[0m \u001b[0mi\u001b[0m \u001b[0;32min\u001b[0m \u001b[0mrange\u001b[0m\u001b[0;34m(\u001b[0m\u001b[0;36m2\u001b[0m\u001b[0;34m)\u001b[0m\u001b[0;34m:\u001b[0m\u001b[0;34m\u001b[0m\u001b[0m\n",
      "\u001b[0m\u001b[0;32m      5 \u001b[0;31m        \u001b[0mset_trace\u001b[0m\u001b[0;34m(\u001b[0m\u001b[0;34m)\u001b[0m\u001b[0;34m\u001b[0m\u001b[0m\n",
      "\u001b[0m\u001b[0;32m----> 6 \u001b[0;31m        \u001b[0mprint\u001b[0m\u001b[0;34m(\u001b[0m\u001b[0mi\u001b[0m\u001b[0;34m)\u001b[0m\u001b[0;34m\u001b[0m\u001b[0m\n",
      "\u001b[0m\n",
      "ipdb> i\n",
      "0\n",
      "ipdb> continue\n",
      "0\n",
      "> \u001b[0;32m<ipython-input-53-127db6176edd>\u001b[0m(5)\u001b[0;36mfoo\u001b[0;34m()\u001b[0m\n",
      "\u001b[0;32m      2 \u001b[0;31m\u001b[0;34m\u001b[0m\u001b[0m\n",
      "\u001b[0m\u001b[0;32m      3 \u001b[0;31m\u001b[0;32mdef\u001b[0m \u001b[0mfoo\u001b[0m\u001b[0;34m(\u001b[0m\u001b[0;34m)\u001b[0m\u001b[0;34m:\u001b[0m\u001b[0;34m\u001b[0m\u001b[0m\n",
      "\u001b[0m\u001b[0;32m      4 \u001b[0;31m    \u001b[0;32mfor\u001b[0m \u001b[0mi\u001b[0m \u001b[0;32min\u001b[0m \u001b[0mrange\u001b[0m\u001b[0;34m(\u001b[0m\u001b[0;36m2\u001b[0m\u001b[0;34m)\u001b[0m\u001b[0;34m:\u001b[0m\u001b[0;34m\u001b[0m\u001b[0m\n",
      "\u001b[0m\u001b[0;32m----> 5 \u001b[0;31m        \u001b[0mset_trace\u001b[0m\u001b[0;34m(\u001b[0m\u001b[0;34m)\u001b[0m\u001b[0;34m\u001b[0m\u001b[0m\n",
      "\u001b[0m\u001b[0;32m      6 \u001b[0;31m        \u001b[0mprint\u001b[0m\u001b[0;34m(\u001b[0m\u001b[0mi\u001b[0m\u001b[0;34m)\u001b[0m\u001b[0;34m\u001b[0m\u001b[0m\n",
      "\u001b[0m\n",
      "ipdb> i\n",
      "1\n",
      "ipdb> continue\n",
      "1\n"
     ]
    }
   ],
   "source": [
    "foo()"
   ]
  },
  {
   "cell_type": "markdown",
   "metadata": {},
   "source": [
    "The Python debugger is called `pdb` and it has some special commands of its own which allow you to step through the execution. They can be listed by typing `help` at the debugger prompt (see above), or you can have a look at the [documentation](https://docs.python.org/3/library/pdb.html#debugger-commands). The examples above also illustrate what a typical debugging session looks like. When you want to stop debugging, don't forget to **quit the debugger** with `quit` (or just `q`) at the debugger prompt, or else your Python process will become unresponsive."
   ]
  },
  {
   "cell_type": "markdown",
   "metadata": {},
   "source": [
    "### Plotting\n",
    "\n",
    "Jupyter is tightly integrated with the [matplotlib](https://matplotlib.org/) plotting library. Plotting is enabled by running the `%matplotlib` magic with an argument specifying how the notebook should handle graphical output. `%matplotlib notebook` will generate an interactive plot which you can resize, pan, zoom and more. A word of caution though: when using this variant, once you're **done with the plot**, don't forget to **\"freeze\" it using the ⏻ symbol** in the upper right corner, or else subsequent plotting commands from different cells will all draw into this same plot."
   ]
  },
  {
   "cell_type": "code",
   "execution_count": 53,
   "metadata": {},
   "outputs": [],
   "source": [
    "%matplotlib notebook"
   ]
  },
  {
   "cell_type": "code",
   "execution_count": 54,
   "metadata": {},
   "outputs": [],
   "source": [
    "import matplotlib.pyplot as plt"
   ]
  },
  {
   "cell_type": "code",
   "execution_count": 55,
   "metadata": {},
   "outputs": [
    {
     "data": {
      "application/javascript": [
       "/* Put everything inside the global mpl namespace */\n",
       "window.mpl = {};\n",
       "\n",
       "\n",
       "mpl.get_websocket_type = function() {\n",
       "    if (typeof(WebSocket) !== 'undefined') {\n",
       "        return WebSocket;\n",
       "    } else if (typeof(MozWebSocket) !== 'undefined') {\n",
       "        return MozWebSocket;\n",
       "    } else {\n",
       "        alert('Your browser does not have WebSocket support.' +\n",
       "              'Please try Chrome, Safari or Firefox ≥ 6. ' +\n",
       "              'Firefox 4 and 5 are also supported but you ' +\n",
       "              'have to enable WebSockets in about:config.');\n",
       "    };\n",
       "}\n",
       "\n",
       "mpl.figure = function(figure_id, websocket, ondownload, parent_element) {\n",
       "    this.id = figure_id;\n",
       "\n",
       "    this.ws = websocket;\n",
       "\n",
       "    this.supports_binary = (this.ws.binaryType != undefined);\n",
       "\n",
       "    if (!this.supports_binary) {\n",
       "        var warnings = document.getElementById(\"mpl-warnings\");\n",
       "        if (warnings) {\n",
       "            warnings.style.display = 'block';\n",
       "            warnings.textContent = (\n",
       "                \"This browser does not support binary websocket messages. \" +\n",
       "                    \"Performance may be slow.\");\n",
       "        }\n",
       "    }\n",
       "\n",
       "    this.imageObj = new Image();\n",
       "\n",
       "    this.context = undefined;\n",
       "    this.message = undefined;\n",
       "    this.canvas = undefined;\n",
       "    this.rubberband_canvas = undefined;\n",
       "    this.rubberband_context = undefined;\n",
       "    this.format_dropdown = undefined;\n",
       "\n",
       "    this.image_mode = 'full';\n",
       "\n",
       "    this.root = $('<div/>');\n",
       "    this._root_extra_style(this.root)\n",
       "    this.root.attr('style', 'display: inline-block');\n",
       "\n",
       "    $(parent_element).append(this.root);\n",
       "\n",
       "    this._init_header(this);\n",
       "    this._init_canvas(this);\n",
       "    this._init_toolbar(this);\n",
       "\n",
       "    var fig = this;\n",
       "\n",
       "    this.waiting = false;\n",
       "\n",
       "    this.ws.onopen =  function () {\n",
       "            fig.send_message(\"supports_binary\", {value: fig.supports_binary});\n",
       "            fig.send_message(\"send_image_mode\", {});\n",
       "            if (mpl.ratio != 1) {\n",
       "                fig.send_message(\"set_dpi_ratio\", {'dpi_ratio': mpl.ratio});\n",
       "            }\n",
       "            fig.send_message(\"refresh\", {});\n",
       "        }\n",
       "\n",
       "    this.imageObj.onload = function() {\n",
       "            if (fig.image_mode == 'full') {\n",
       "                // Full images could contain transparency (where diff images\n",
       "                // almost always do), so we need to clear the canvas so that\n",
       "                // there is no ghosting.\n",
       "                fig.context.clearRect(0, 0, fig.canvas.width, fig.canvas.height);\n",
       "            }\n",
       "            fig.context.drawImage(fig.imageObj, 0, 0);\n",
       "        };\n",
       "\n",
       "    this.imageObj.onunload = function() {\n",
       "        this.ws.close();\n",
       "    }\n",
       "\n",
       "    this.ws.onmessage = this._make_on_message_function(this);\n",
       "\n",
       "    this.ondownload = ondownload;\n",
       "}\n",
       "\n",
       "mpl.figure.prototype._init_header = function() {\n",
       "    var titlebar = $(\n",
       "        '<div class=\"ui-dialog-titlebar ui-widget-header ui-corner-all ' +\n",
       "        'ui-helper-clearfix\"/>');\n",
       "    var titletext = $(\n",
       "        '<div class=\"ui-dialog-title\" style=\"width: 100%; ' +\n",
       "        'text-align: center; padding: 3px;\"/>');\n",
       "    titlebar.append(titletext)\n",
       "    this.root.append(titlebar);\n",
       "    this.header = titletext[0];\n",
       "}\n",
       "\n",
       "\n",
       "\n",
       "mpl.figure.prototype._canvas_extra_style = function(canvas_div) {\n",
       "\n",
       "}\n",
       "\n",
       "\n",
       "mpl.figure.prototype._root_extra_style = function(canvas_div) {\n",
       "\n",
       "}\n",
       "\n",
       "mpl.figure.prototype._init_canvas = function() {\n",
       "    var fig = this;\n",
       "\n",
       "    var canvas_div = $('<div/>');\n",
       "\n",
       "    canvas_div.attr('style', 'position: relative; clear: both; outline: 0');\n",
       "\n",
       "    function canvas_keyboard_event(event) {\n",
       "        return fig.key_event(event, event['data']);\n",
       "    }\n",
       "\n",
       "    canvas_div.keydown('key_press', canvas_keyboard_event);\n",
       "    canvas_div.keyup('key_release', canvas_keyboard_event);\n",
       "    this.canvas_div = canvas_div\n",
       "    this._canvas_extra_style(canvas_div)\n",
       "    this.root.append(canvas_div);\n",
       "\n",
       "    var canvas = $('<canvas/>');\n",
       "    canvas.addClass('mpl-canvas');\n",
       "    canvas.attr('style', \"left: 0; top: 0; z-index: 0; outline: 0\")\n",
       "\n",
       "    this.canvas = canvas[0];\n",
       "    this.context = canvas[0].getContext(\"2d\");\n",
       "\n",
       "    var backingStore = this.context.backingStorePixelRatio ||\n",
       "\tthis.context.webkitBackingStorePixelRatio ||\n",
       "\tthis.context.mozBackingStorePixelRatio ||\n",
       "\tthis.context.msBackingStorePixelRatio ||\n",
       "\tthis.context.oBackingStorePixelRatio ||\n",
       "\tthis.context.backingStorePixelRatio || 1;\n",
       "\n",
       "    mpl.ratio = (window.devicePixelRatio || 1) / backingStore;\n",
       "\n",
       "    var rubberband = $('<canvas/>');\n",
       "    rubberband.attr('style', \"position: absolute; left: 0; top: 0; z-index: 1;\")\n",
       "\n",
       "    var pass_mouse_events = true;\n",
       "\n",
       "    canvas_div.resizable({\n",
       "        start: function(event, ui) {\n",
       "            pass_mouse_events = false;\n",
       "        },\n",
       "        resize: function(event, ui) {\n",
       "            fig.request_resize(ui.size.width, ui.size.height);\n",
       "        },\n",
       "        stop: function(event, ui) {\n",
       "            pass_mouse_events = true;\n",
       "            fig.request_resize(ui.size.width, ui.size.height);\n",
       "        },\n",
       "    });\n",
       "\n",
       "    function mouse_event_fn(event) {\n",
       "        if (pass_mouse_events)\n",
       "            return fig.mouse_event(event, event['data']);\n",
       "    }\n",
       "\n",
       "    rubberband.mousedown('button_press', mouse_event_fn);\n",
       "    rubberband.mouseup('button_release', mouse_event_fn);\n",
       "    // Throttle sequential mouse events to 1 every 20ms.\n",
       "    rubberband.mousemove('motion_notify', mouse_event_fn);\n",
       "\n",
       "    rubberband.mouseenter('figure_enter', mouse_event_fn);\n",
       "    rubberband.mouseleave('figure_leave', mouse_event_fn);\n",
       "\n",
       "    canvas_div.on(\"wheel\", function (event) {\n",
       "        event = event.originalEvent;\n",
       "        event['data'] = 'scroll'\n",
       "        if (event.deltaY < 0) {\n",
       "            event.step = 1;\n",
       "        } else {\n",
       "            event.step = -1;\n",
       "        }\n",
       "        mouse_event_fn(event);\n",
       "    });\n",
       "\n",
       "    canvas_div.append(canvas);\n",
       "    canvas_div.append(rubberband);\n",
       "\n",
       "    this.rubberband = rubberband;\n",
       "    this.rubberband_canvas = rubberband[0];\n",
       "    this.rubberband_context = rubberband[0].getContext(\"2d\");\n",
       "    this.rubberband_context.strokeStyle = \"#000000\";\n",
       "\n",
       "    this._resize_canvas = function(width, height) {\n",
       "        // Keep the size of the canvas, canvas container, and rubber band\n",
       "        // canvas in synch.\n",
       "        canvas_div.css('width', width)\n",
       "        canvas_div.css('height', height)\n",
       "\n",
       "        canvas.attr('width', width * mpl.ratio);\n",
       "        canvas.attr('height', height * mpl.ratio);\n",
       "        canvas.attr('style', 'width: ' + width + 'px; height: ' + height + 'px;');\n",
       "\n",
       "        rubberband.attr('width', width);\n",
       "        rubberband.attr('height', height);\n",
       "    }\n",
       "\n",
       "    // Set the figure to an initial 600x600px, this will subsequently be updated\n",
       "    // upon first draw.\n",
       "    this._resize_canvas(600, 600);\n",
       "\n",
       "    // Disable right mouse context menu.\n",
       "    $(this.rubberband_canvas).bind(\"contextmenu\",function(e){\n",
       "        return false;\n",
       "    });\n",
       "\n",
       "    function set_focus () {\n",
       "        canvas.focus();\n",
       "        canvas_div.focus();\n",
       "    }\n",
       "\n",
       "    window.setTimeout(set_focus, 100);\n",
       "}\n",
       "\n",
       "mpl.figure.prototype._init_toolbar = function() {\n",
       "    var fig = this;\n",
       "\n",
       "    var nav_element = $('<div/>')\n",
       "    nav_element.attr('style', 'width: 100%');\n",
       "    this.root.append(nav_element);\n",
       "\n",
       "    // Define a callback function for later on.\n",
       "    function toolbar_event(event) {\n",
       "        return fig.toolbar_button_onclick(event['data']);\n",
       "    }\n",
       "    function toolbar_mouse_event(event) {\n",
       "        return fig.toolbar_button_onmouseover(event['data']);\n",
       "    }\n",
       "\n",
       "    for(var toolbar_ind in mpl.toolbar_items) {\n",
       "        var name = mpl.toolbar_items[toolbar_ind][0];\n",
       "        var tooltip = mpl.toolbar_items[toolbar_ind][1];\n",
       "        var image = mpl.toolbar_items[toolbar_ind][2];\n",
       "        var method_name = mpl.toolbar_items[toolbar_ind][3];\n",
       "\n",
       "        if (!name) {\n",
       "            // put a spacer in here.\n",
       "            continue;\n",
       "        }\n",
       "        var button = $('<button/>');\n",
       "        button.addClass('ui-button ui-widget ui-state-default ui-corner-all ' +\n",
       "                        'ui-button-icon-only');\n",
       "        button.attr('role', 'button');\n",
       "        button.attr('aria-disabled', 'false');\n",
       "        button.click(method_name, toolbar_event);\n",
       "        button.mouseover(tooltip, toolbar_mouse_event);\n",
       "\n",
       "        var icon_img = $('<span/>');\n",
       "        icon_img.addClass('ui-button-icon-primary ui-icon');\n",
       "        icon_img.addClass(image);\n",
       "        icon_img.addClass('ui-corner-all');\n",
       "\n",
       "        var tooltip_span = $('<span/>');\n",
       "        tooltip_span.addClass('ui-button-text');\n",
       "        tooltip_span.html(tooltip);\n",
       "\n",
       "        button.append(icon_img);\n",
       "        button.append(tooltip_span);\n",
       "\n",
       "        nav_element.append(button);\n",
       "    }\n",
       "\n",
       "    var fmt_picker_span = $('<span/>');\n",
       "\n",
       "    var fmt_picker = $('<select/>');\n",
       "    fmt_picker.addClass('mpl-toolbar-option ui-widget ui-widget-content');\n",
       "    fmt_picker_span.append(fmt_picker);\n",
       "    nav_element.append(fmt_picker_span);\n",
       "    this.format_dropdown = fmt_picker[0];\n",
       "\n",
       "    for (var ind in mpl.extensions) {\n",
       "        var fmt = mpl.extensions[ind];\n",
       "        var option = $(\n",
       "            '<option/>', {selected: fmt === mpl.default_extension}).html(fmt);\n",
       "        fmt_picker.append(option)\n",
       "    }\n",
       "\n",
       "    // Add hover states to the ui-buttons\n",
       "    $( \".ui-button\" ).hover(\n",
       "        function() { $(this).addClass(\"ui-state-hover\");},\n",
       "        function() { $(this).removeClass(\"ui-state-hover\");}\n",
       "    );\n",
       "\n",
       "    var status_bar = $('<span class=\"mpl-message\"/>');\n",
       "    nav_element.append(status_bar);\n",
       "    this.message = status_bar[0];\n",
       "}\n",
       "\n",
       "mpl.figure.prototype.request_resize = function(x_pixels, y_pixels) {\n",
       "    // Request matplotlib to resize the figure. Matplotlib will then trigger a resize in the client,\n",
       "    // which will in turn request a refresh of the image.\n",
       "    this.send_message('resize', {'width': x_pixels, 'height': y_pixels});\n",
       "}\n",
       "\n",
       "mpl.figure.prototype.send_message = function(type, properties) {\n",
       "    properties['type'] = type;\n",
       "    properties['figure_id'] = this.id;\n",
       "    this.ws.send(JSON.stringify(properties));\n",
       "}\n",
       "\n",
       "mpl.figure.prototype.send_draw_message = function() {\n",
       "    if (!this.waiting) {\n",
       "        this.waiting = true;\n",
       "        this.ws.send(JSON.stringify({type: \"draw\", figure_id: this.id}));\n",
       "    }\n",
       "}\n",
       "\n",
       "\n",
       "mpl.figure.prototype.handle_save = function(fig, msg) {\n",
       "    var format_dropdown = fig.format_dropdown;\n",
       "    var format = format_dropdown.options[format_dropdown.selectedIndex].value;\n",
       "    fig.ondownload(fig, format);\n",
       "}\n",
       "\n",
       "\n",
       "mpl.figure.prototype.handle_resize = function(fig, msg) {\n",
       "    var size = msg['size'];\n",
       "    if (size[0] != fig.canvas.width || size[1] != fig.canvas.height) {\n",
       "        fig._resize_canvas(size[0], size[1]);\n",
       "        fig.send_message(\"refresh\", {});\n",
       "    };\n",
       "}\n",
       "\n",
       "mpl.figure.prototype.handle_rubberband = function(fig, msg) {\n",
       "    var x0 = msg['x0'] / mpl.ratio;\n",
       "    var y0 = (fig.canvas.height - msg['y0']) / mpl.ratio;\n",
       "    var x1 = msg['x1'] / mpl.ratio;\n",
       "    var y1 = (fig.canvas.height - msg['y1']) / mpl.ratio;\n",
       "    x0 = Math.floor(x0) + 0.5;\n",
       "    y0 = Math.floor(y0) + 0.5;\n",
       "    x1 = Math.floor(x1) + 0.5;\n",
       "    y1 = Math.floor(y1) + 0.5;\n",
       "    var min_x = Math.min(x0, x1);\n",
       "    var min_y = Math.min(y0, y1);\n",
       "    var width = Math.abs(x1 - x0);\n",
       "    var height = Math.abs(y1 - y0);\n",
       "\n",
       "    fig.rubberband_context.clearRect(\n",
       "        0, 0, fig.canvas.width, fig.canvas.height);\n",
       "\n",
       "    fig.rubberband_context.strokeRect(min_x, min_y, width, height);\n",
       "}\n",
       "\n",
       "mpl.figure.prototype.handle_figure_label = function(fig, msg) {\n",
       "    // Updates the figure title.\n",
       "    fig.header.textContent = msg['label'];\n",
       "}\n",
       "\n",
       "mpl.figure.prototype.handle_cursor = function(fig, msg) {\n",
       "    var cursor = msg['cursor'];\n",
       "    switch(cursor)\n",
       "    {\n",
       "    case 0:\n",
       "        cursor = 'pointer';\n",
       "        break;\n",
       "    case 1:\n",
       "        cursor = 'default';\n",
       "        break;\n",
       "    case 2:\n",
       "        cursor = 'crosshair';\n",
       "        break;\n",
       "    case 3:\n",
       "        cursor = 'move';\n",
       "        break;\n",
       "    }\n",
       "    fig.rubberband_canvas.style.cursor = cursor;\n",
       "}\n",
       "\n",
       "mpl.figure.prototype.handle_message = function(fig, msg) {\n",
       "    fig.message.textContent = msg['message'];\n",
       "}\n",
       "\n",
       "mpl.figure.prototype.handle_draw = function(fig, msg) {\n",
       "    // Request the server to send over a new figure.\n",
       "    fig.send_draw_message();\n",
       "}\n",
       "\n",
       "mpl.figure.prototype.handle_image_mode = function(fig, msg) {\n",
       "    fig.image_mode = msg['mode'];\n",
       "}\n",
       "\n",
       "mpl.figure.prototype.updated_canvas_event = function() {\n",
       "    // Called whenever the canvas gets updated.\n",
       "    this.send_message(\"ack\", {});\n",
       "}\n",
       "\n",
       "// A function to construct a web socket function for onmessage handling.\n",
       "// Called in the figure constructor.\n",
       "mpl.figure.prototype._make_on_message_function = function(fig) {\n",
       "    return function socket_on_message(evt) {\n",
       "        if (evt.data instanceof Blob) {\n",
       "            /* FIXME: We get \"Resource interpreted as Image but\n",
       "             * transferred with MIME type text/plain:\" errors on\n",
       "             * Chrome.  But how to set the MIME type?  It doesn't seem\n",
       "             * to be part of the websocket stream */\n",
       "            evt.data.type = \"image/png\";\n",
       "\n",
       "            /* Free the memory for the previous frames */\n",
       "            if (fig.imageObj.src) {\n",
       "                (window.URL || window.webkitURL).revokeObjectURL(\n",
       "                    fig.imageObj.src);\n",
       "            }\n",
       "\n",
       "            fig.imageObj.src = (window.URL || window.webkitURL).createObjectURL(\n",
       "                evt.data);\n",
       "            fig.updated_canvas_event();\n",
       "            fig.waiting = false;\n",
       "            return;\n",
       "        }\n",
       "        else if (typeof evt.data === 'string' && evt.data.slice(0, 21) == \"data:image/png;base64\") {\n",
       "            fig.imageObj.src = evt.data;\n",
       "            fig.updated_canvas_event();\n",
       "            fig.waiting = false;\n",
       "            return;\n",
       "        }\n",
       "\n",
       "        var msg = JSON.parse(evt.data);\n",
       "        var msg_type = msg['type'];\n",
       "\n",
       "        // Call the  \"handle_{type}\" callback, which takes\n",
       "        // the figure and JSON message as its only arguments.\n",
       "        try {\n",
       "            var callback = fig[\"handle_\" + msg_type];\n",
       "        } catch (e) {\n",
       "            console.log(\"No handler for the '\" + msg_type + \"' message type: \", msg);\n",
       "            return;\n",
       "        }\n",
       "\n",
       "        if (callback) {\n",
       "            try {\n",
       "                // console.log(\"Handling '\" + msg_type + \"' message: \", msg);\n",
       "                callback(fig, msg);\n",
       "            } catch (e) {\n",
       "                console.log(\"Exception inside the 'handler_\" + msg_type + \"' callback:\", e, e.stack, msg);\n",
       "            }\n",
       "        }\n",
       "    };\n",
       "}\n",
       "\n",
       "// from http://stackoverflow.com/questions/1114465/getting-mouse-location-in-canvas\n",
       "mpl.findpos = function(e) {\n",
       "    //this section is from http://www.quirksmode.org/js/events_properties.html\n",
       "    var targ;\n",
       "    if (!e)\n",
       "        e = window.event;\n",
       "    if (e.target)\n",
       "        targ = e.target;\n",
       "    else if (e.srcElement)\n",
       "        targ = e.srcElement;\n",
       "    if (targ.nodeType == 3) // defeat Safari bug\n",
       "        targ = targ.parentNode;\n",
       "\n",
       "    // jQuery normalizes the pageX and pageY\n",
       "    // pageX,Y are the mouse positions relative to the document\n",
       "    // offset() returns the position of the element relative to the document\n",
       "    var x = e.pageX - $(targ).offset().left;\n",
       "    var y = e.pageY - $(targ).offset().top;\n",
       "\n",
       "    return {\"x\": x, \"y\": y};\n",
       "};\n",
       "\n",
       "/*\n",
       " * return a copy of an object with only non-object keys\n",
       " * we need this to avoid circular references\n",
       " * http://stackoverflow.com/a/24161582/3208463\n",
       " */\n",
       "function simpleKeys (original) {\n",
       "  return Object.keys(original).reduce(function (obj, key) {\n",
       "    if (typeof original[key] !== 'object')\n",
       "        obj[key] = original[key]\n",
       "    return obj;\n",
       "  }, {});\n",
       "}\n",
       "\n",
       "mpl.figure.prototype.mouse_event = function(event, name) {\n",
       "    var canvas_pos = mpl.findpos(event)\n",
       "\n",
       "    if (name === 'button_press')\n",
       "    {\n",
       "        this.canvas.focus();\n",
       "        this.canvas_div.focus();\n",
       "    }\n",
       "\n",
       "    var x = canvas_pos.x * mpl.ratio;\n",
       "    var y = canvas_pos.y * mpl.ratio;\n",
       "\n",
       "    this.send_message(name, {x: x, y: y, button: event.button,\n",
       "                             step: event.step,\n",
       "                             guiEvent: simpleKeys(event)});\n",
       "\n",
       "    /* This prevents the web browser from automatically changing to\n",
       "     * the text insertion cursor when the button is pressed.  We want\n",
       "     * to control all of the cursor setting manually through the\n",
       "     * 'cursor' event from matplotlib */\n",
       "    event.preventDefault();\n",
       "    return false;\n",
       "}\n",
       "\n",
       "mpl.figure.prototype._key_event_extra = function(event, name) {\n",
       "    // Handle any extra behaviour associated with a key event\n",
       "}\n",
       "\n",
       "mpl.figure.prototype.key_event = function(event, name) {\n",
       "\n",
       "    // Prevent repeat events\n",
       "    if (name == 'key_press')\n",
       "    {\n",
       "        if (event.which === this._key)\n",
       "            return;\n",
       "        else\n",
       "            this._key = event.which;\n",
       "    }\n",
       "    if (name == 'key_release')\n",
       "        this._key = null;\n",
       "\n",
       "    var value = '';\n",
       "    if (event.ctrlKey && event.which != 17)\n",
       "        value += \"ctrl+\";\n",
       "    if (event.altKey && event.which != 18)\n",
       "        value += \"alt+\";\n",
       "    if (event.shiftKey && event.which != 16)\n",
       "        value += \"shift+\";\n",
       "\n",
       "    value += 'k';\n",
       "    value += event.which.toString();\n",
       "\n",
       "    this._key_event_extra(event, name);\n",
       "\n",
       "    this.send_message(name, {key: value,\n",
       "                             guiEvent: simpleKeys(event)});\n",
       "    return false;\n",
       "}\n",
       "\n",
       "mpl.figure.prototype.toolbar_button_onclick = function(name) {\n",
       "    if (name == 'download') {\n",
       "        this.handle_save(this, null);\n",
       "    } else {\n",
       "        this.send_message(\"toolbar_button\", {name: name});\n",
       "    }\n",
       "};\n",
       "\n",
       "mpl.figure.prototype.toolbar_button_onmouseover = function(tooltip) {\n",
       "    this.message.textContent = tooltip;\n",
       "};\n",
       "mpl.toolbar_items = [[\"Home\", \"Reset original view\", \"fa fa-home icon-home\", \"home\"], [\"Back\", \"Back to  previous view\", \"fa fa-arrow-left icon-arrow-left\", \"back\"], [\"Forward\", \"Forward to next view\", \"fa fa-arrow-right icon-arrow-right\", \"forward\"], [\"\", \"\", \"\", \"\"], [\"Pan\", \"Pan axes with left mouse, zoom with right\", \"fa fa-arrows icon-move\", \"pan\"], [\"Zoom\", \"Zoom to rectangle\", \"fa fa-square-o icon-check-empty\", \"zoom\"], [\"\", \"\", \"\", \"\"], [\"Download\", \"Download plot\", \"fa fa-floppy-o icon-save\", \"download\"]];\n",
       "\n",
       "mpl.extensions = [\"eps\", \"pdf\", \"png\", \"ps\", \"raw\", \"svg\"];\n",
       "\n",
       "mpl.default_extension = \"png\";var comm_websocket_adapter = function(comm) {\n",
       "    // Create a \"websocket\"-like object which calls the given IPython comm\n",
       "    // object with the appropriate methods. Currently this is a non binary\n",
       "    // socket, so there is still some room for performance tuning.\n",
       "    var ws = {};\n",
       "\n",
       "    ws.close = function() {\n",
       "        comm.close()\n",
       "    };\n",
       "    ws.send = function(m) {\n",
       "        //console.log('sending', m);\n",
       "        comm.send(m);\n",
       "    };\n",
       "    // Register the callback with on_msg.\n",
       "    comm.on_msg(function(msg) {\n",
       "        //console.log('receiving', msg['content']['data'], msg);\n",
       "        // Pass the mpl event to the overriden (by mpl) onmessage function.\n",
       "        ws.onmessage(msg['content']['data'])\n",
       "    });\n",
       "    return ws;\n",
       "}\n",
       "\n",
       "mpl.mpl_figure_comm = function(comm, msg) {\n",
       "    // This is the function which gets called when the mpl process\n",
       "    // starts-up an IPython Comm through the \"matplotlib\" channel.\n",
       "\n",
       "    var id = msg.content.data.id;\n",
       "    // Get hold of the div created by the display call when the Comm\n",
       "    // socket was opened in Python.\n",
       "    var element = $(\"#\" + id);\n",
       "    var ws_proxy = comm_websocket_adapter(comm)\n",
       "\n",
       "    function ondownload(figure, format) {\n",
       "        window.open(figure.imageObj.src);\n",
       "    }\n",
       "\n",
       "    var fig = new mpl.figure(id, ws_proxy,\n",
       "                           ondownload,\n",
       "                           element.get(0));\n",
       "\n",
       "    // Call onopen now - mpl needs it, as it is assuming we've passed it a real\n",
       "    // web socket which is closed, not our websocket->open comm proxy.\n",
       "    ws_proxy.onopen();\n",
       "\n",
       "    fig.parent_element = element.get(0);\n",
       "    fig.cell_info = mpl.find_output_cell(\"<div id='\" + id + \"'></div>\");\n",
       "    if (!fig.cell_info) {\n",
       "        console.error(\"Failed to find cell for figure\", id, fig);\n",
       "        return;\n",
       "    }\n",
       "\n",
       "    var output_index = fig.cell_info[2]\n",
       "    var cell = fig.cell_info[0];\n",
       "\n",
       "};\n",
       "\n",
       "mpl.figure.prototype.handle_close = function(fig, msg) {\n",
       "    var width = fig.canvas.width/mpl.ratio\n",
       "    fig.root.unbind('remove')\n",
       "\n",
       "    // Update the output cell to use the data from the current canvas.\n",
       "    fig.push_to_output();\n",
       "    var dataURL = fig.canvas.toDataURL();\n",
       "    // Re-enable the keyboard manager in IPython - without this line, in FF,\n",
       "    // the notebook keyboard shortcuts fail.\n",
       "    IPython.keyboard_manager.enable()\n",
       "    $(fig.parent_element).html('<img src=\"' + dataURL + '\" width=\"' + width + '\">');\n",
       "    fig.close_ws(fig, msg);\n",
       "}\n",
       "\n",
       "mpl.figure.prototype.close_ws = function(fig, msg){\n",
       "    fig.send_message('closing', msg);\n",
       "    // fig.ws.close()\n",
       "}\n",
       "\n",
       "mpl.figure.prototype.push_to_output = function(remove_interactive) {\n",
       "    // Turn the data on the canvas into data in the output cell.\n",
       "    var width = this.canvas.width/mpl.ratio\n",
       "    var dataURL = this.canvas.toDataURL();\n",
       "    this.cell_info[1]['text/html'] = '<img src=\"' + dataURL + '\" width=\"' + width + '\">';\n",
       "}\n",
       "\n",
       "mpl.figure.prototype.updated_canvas_event = function() {\n",
       "    // Tell IPython that the notebook contents must change.\n",
       "    IPython.notebook.set_dirty(true);\n",
       "    this.send_message(\"ack\", {});\n",
       "    var fig = this;\n",
       "    // Wait a second, then push the new image to the DOM so\n",
       "    // that it is saved nicely (might be nice to debounce this).\n",
       "    setTimeout(function () { fig.push_to_output() }, 1000);\n",
       "}\n",
       "\n",
       "mpl.figure.prototype._init_toolbar = function() {\n",
       "    var fig = this;\n",
       "\n",
       "    var nav_element = $('<div/>')\n",
       "    nav_element.attr('style', 'width: 100%');\n",
       "    this.root.append(nav_element);\n",
       "\n",
       "    // Define a callback function for later on.\n",
       "    function toolbar_event(event) {\n",
       "        return fig.toolbar_button_onclick(event['data']);\n",
       "    }\n",
       "    function toolbar_mouse_event(event) {\n",
       "        return fig.toolbar_button_onmouseover(event['data']);\n",
       "    }\n",
       "\n",
       "    for(var toolbar_ind in mpl.toolbar_items){\n",
       "        var name = mpl.toolbar_items[toolbar_ind][0];\n",
       "        var tooltip = mpl.toolbar_items[toolbar_ind][1];\n",
       "        var image = mpl.toolbar_items[toolbar_ind][2];\n",
       "        var method_name = mpl.toolbar_items[toolbar_ind][3];\n",
       "\n",
       "        if (!name) { continue; };\n",
       "\n",
       "        var button = $('<button class=\"btn btn-default\" href=\"#\" title=\"' + name + '\"><i class=\"fa ' + image + ' fa-lg\"></i></button>');\n",
       "        button.click(method_name, toolbar_event);\n",
       "        button.mouseover(tooltip, toolbar_mouse_event);\n",
       "        nav_element.append(button);\n",
       "    }\n",
       "\n",
       "    // Add the status bar.\n",
       "    var status_bar = $('<span class=\"mpl-message\" style=\"text-align:right; float: right;\"/>');\n",
       "    nav_element.append(status_bar);\n",
       "    this.message = status_bar[0];\n",
       "\n",
       "    // Add the close button to the window.\n",
       "    var buttongrp = $('<div class=\"btn-group inline pull-right\"></div>');\n",
       "    var button = $('<button class=\"btn btn-mini btn-primary\" href=\"#\" title=\"Stop Interaction\"><i class=\"fa fa-power-off icon-remove icon-large\"></i></button>');\n",
       "    button.click(function (evt) { fig.handle_close(fig, {}); } );\n",
       "    button.mouseover('Stop Interaction', toolbar_mouse_event);\n",
       "    buttongrp.append(button);\n",
       "    var titlebar = this.root.find($('.ui-dialog-titlebar'));\n",
       "    titlebar.prepend(buttongrp);\n",
       "}\n",
       "\n",
       "mpl.figure.prototype._root_extra_style = function(el){\n",
       "    var fig = this\n",
       "    el.on(\"remove\", function(){\n",
       "\tfig.close_ws(fig, {});\n",
       "    });\n",
       "}\n",
       "\n",
       "mpl.figure.prototype._canvas_extra_style = function(el){\n",
       "    // this is important to make the div 'focusable\n",
       "    el.attr('tabindex', 0)\n",
       "    // reach out to IPython and tell the keyboard manager to turn it's self\n",
       "    // off when our div gets focus\n",
       "\n",
       "    // location in version 3\n",
       "    if (IPython.notebook.keyboard_manager) {\n",
       "        IPython.notebook.keyboard_manager.register_events(el);\n",
       "    }\n",
       "    else {\n",
       "        // location in version 2\n",
       "        IPython.keyboard_manager.register_events(el);\n",
       "    }\n",
       "\n",
       "}\n",
       "\n",
       "mpl.figure.prototype._key_event_extra = function(event, name) {\n",
       "    var manager = IPython.notebook.keyboard_manager;\n",
       "    if (!manager)\n",
       "        manager = IPython.keyboard_manager;\n",
       "\n",
       "    // Check for shift+enter\n",
       "    if (event.shiftKey && event.which == 13) {\n",
       "        this.canvas_div.blur();\n",
       "        // select the cell after this one\n",
       "        var index = IPython.notebook.find_cell_index(this.cell_info[0]);\n",
       "        IPython.notebook.select(index + 1);\n",
       "    }\n",
       "}\n",
       "\n",
       "mpl.figure.prototype.handle_save = function(fig, msg) {\n",
       "    fig.ondownload(fig, null);\n",
       "}\n",
       "\n",
       "\n",
       "mpl.find_output_cell = function(html_output) {\n",
       "    // Return the cell and output element which can be found *uniquely* in the notebook.\n",
       "    // Note - this is a bit hacky, but it is done because the \"notebook_saving.Notebook\"\n",
       "    // IPython event is triggered only after the cells have been serialised, which for\n",
       "    // our purposes (turning an active figure into a static one), is too late.\n",
       "    var cells = IPython.notebook.get_cells();\n",
       "    var ncells = cells.length;\n",
       "    for (var i=0; i<ncells; i++) {\n",
       "        var cell = cells[i];\n",
       "        if (cell.cell_type === 'code'){\n",
       "            for (var j=0; j<cell.output_area.outputs.length; j++) {\n",
       "                var data = cell.output_area.outputs[j];\n",
       "                if (data.data) {\n",
       "                    // IPython >= 3 moved mimebundle to data attribute of output\n",
       "                    data = data.data;\n",
       "                }\n",
       "                if (data['text/html'] == html_output) {\n",
       "                    return [cell, data, j];\n",
       "                }\n",
       "            }\n",
       "        }\n",
       "    }\n",
       "}\n",
       "\n",
       "// Register the function which deals with the matplotlib target/channel.\n",
       "// The kernel may be null if the page has been refreshed.\n",
       "if (IPython.notebook.kernel != null) {\n",
       "    IPython.notebook.kernel.comm_manager.register_target('matplotlib', mpl.mpl_figure_comm);\n",
       "}\n"
      ],
      "text/plain": [
       "<IPython.core.display.Javascript object>"
      ]
     },
     "metadata": {},
     "output_type": "display_data"
    },
    {
     "data": {
      "text/html": [
       "<img src=\"data:image/png;base64,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\" width=\"640\">"
      ],
      "text/plain": [
       "<IPython.core.display.HTML object>"
      ]
     },
     "metadata": {},
     "output_type": "display_data"
    },
    {
     "data": {
      "text/plain": [
       "[<matplotlib.lines.Line2D at 0x7f296f715160>]"
      ]
     },
     "execution_count": 55,
     "metadata": {},
     "output_type": "execute_result"
    }
   ],
   "source": [
    "plt.plot(range(10))"
   ]
  },
  {
   "cell_type": "markdown",
   "metadata": {},
   "source": [
    "By contrast, `%matplotlib inline` will just show a basic plot with a default size:"
   ]
  },
  {
   "cell_type": "code",
   "execution_count": 56,
   "metadata": {},
   "outputs": [],
   "source": [
    "%matplotlib inline"
   ]
  },
  {
   "cell_type": "code",
   "execution_count": 57,
   "metadata": {},
   "outputs": [
    {
     "data": {
      "text/plain": [
       "[<matplotlib.lines.Line2D at 0x7f296f68a278>]"
      ]
     },
     "execution_count": 57,
     "metadata": {},
     "output_type": "execute_result"
    },
    {
     "data": {
      "image/png": "[encoded data removed]",
      "text/plain": [
       "<matplotlib.figure.Figure at 0x7f296f7b2e80>"
      ]
     },
     "metadata": {},
     "output_type": "display_data"
    }
   ],
   "source": [
    "plt.plot(range(10))"
   ]
  },
  {
   "cell_type": "markdown",
   "metadata": {},
   "source": [
    "For more information on plotting with matplotlib, see their [usage guide](https://matplotlib.org/2.1.1/tutorials/introductory/usage.html)."
   ]
  },
  {
   "cell_type": "markdown",
   "metadata": {},
   "source": [
    "## Command line programs\n",
    "\n",
    "The operations listed in the section on magics for working with the file system can of course also be achieved using the corresponding command line programs, so if you know those, no need to memorize the magics. In fact, the magics are often just thin wrappers around the command line programs, which is why they are named the same."
   ]
  },
  {
   "cell_type": "code",
   "execution_count": 58,
   "metadata": {},
   "outputs": [
    {
     "name": "stdout",
     "output_type": "stream",
     "text": [
      "total 56K\r\n",
      "-rw-r--r-- 1 root root 3.0K Mar 30  2016 win-utf\r\n",
      "-rw-r--r-- 1 root root  664 Mar 30  2016 uwsgi_params\r\n",
      "-rw-r--r-- 1 root root  636 Mar 30  2016 scgi_params\r\n",
      "-rw-r--r-- 1 root root  180 Mar 30  2016 proxy_params\r\n",
      "-rw-r--r-- 1 root root 3.9K Mar 30  2016 mime.types\r\n",
      "-rw-r--r-- 1 root root 2.2K Mar 30  2016 koi-win\r\n",
      "-rw-r--r-- 1 root root 2.8K Mar 30  2016 koi-utf\r\n",
      "-rw-r--r-- 1 root root 1007 Mar 30  2016 fastcgi_params\r\n",
      "-rw-r--r-- 1 root root 1.1K Mar 30  2016 fastcgi.conf\r\n",
      "drwxr-xr-x 2 root root 4.0K Apr 26  2016 \u001b[0m\u001b[01;34mconf.d\u001b[0m\r\n",
      "-rw-r--r-- 1 root root 1.5K Apr 27  2016 nginx.conf\r\n",
      "drwxr-xr-x 2 root root 4.0K Apr 27  2016 \u001b[01;34msites-enabled\u001b[0m\r\n",
      "drwxr-xr-x 2 root root 4.0K Aug 15 09:21 \u001b[01;34msites-available\u001b[0m\r\n",
      "drwxr-xr-x 2 root root 4.0K Aug 15 09:21 \u001b[01;34msnippets\u001b[0m\r\n"
     ]
    }
   ],
   "source": [
    "!ls --color -hArtl /etc/nginx"
   ]
  },
  {
   "cell_type": "markdown",
   "metadata": {},
   "source": [
    "The only functionality that I miss among the magics is the ability to take a quick look at part of a possibly very large text file. This can be done with the `head` command line program, which prints the beginning of a file:"
   ]
  },
  {
   "cell_type": "code",
   "execution_count": 59,
   "metadata": {},
   "outputs": [
    {
     "name": "stdout",
     "output_type": "stream",
     "text": [
      "{\r\n",
      " \"cells\": [\r\n",
      "  {\r\n",
      "   \"cell_type\": \"markdown\",\r\n",
      "   \"metadata\": {},\r\n",
      "   \"source\": [\r\n",
      "    \"# Make the most of Python Jupyter notebooks\\n\",\r\n",
      "    \"\\n\",\r\n",
      "    \"Python-based [Jupyter](http://jupyter.org/) notebooks mostly consist of Python code, obviously, and some Markdown text. But they also offer some very handy functions and shortcuts which are not available in Python itself, and which are really helpful for interactive work. This is my personal best of / reference.\\n\",\r\n",
      "    \"\\n\",\r\n"
     ]
    }
   ],
   "source": [
    "!head jupyter_magic.ipynb"
   ]
  },
  {
   "cell_type": "markdown",
   "metadata": {},
   "source": [
    "The `-n` option controls how many lines from the beginning of the file should be printed:"
   ]
  },
  {
   "cell_type": "code",
   "execution_count": 60,
   "metadata": {},
   "outputs": [
    {
     "name": "stdout",
     "output_type": "stream",
     "text": [
      "==> jupyter_magic.ipynb <==\r\n",
      "{\r\n",
      " \"cells\": [\r\n",
      "  {\r\n",
      "\r\n",
      "==> regex.ipynb <==\r\n",
      "{\r\n",
      " \"cells\": [\r\n",
      "  {\r\n"
     ]
    }
   ],
   "source": [
    "!head -n3 jupyter_magic.ipynb regex.ipynb"
   ]
  },
  {
   "cell_type": "markdown",
   "metadata": {},
   "source": [
    "Similarly, the `tail` program prints endings of files:"
   ]
  },
  {
   "cell_type": "code",
   "execution_count": 61,
   "metadata": {},
   "outputs": [
    {
     "name": "stdout",
     "output_type": "stream",
     "text": [
      "  }\r\n",
      " },\r\n",
      " \"nbformat\": 4,\r\n",
      " \"nbformat_minor\": 2\r\n",
      "}\r\n"
     ]
    }
   ],
   "source": [
    "!tail -n5 jupyter_magic.ipynb"
   ]
  },
  {
   "cell_type": "markdown",
   "metadata": {},
   "source": [
    "Another useful feature of command line execution is that instead of *printing* the result, you can have it *returned* as a list of strings corresponding to lines of output. Either by prepending two exclamation marks instead of one:"
   ]
  },
  {
   "cell_type": "code",
   "execution_count": 62,
   "metadata": {},
   "outputs": [
    {
     "data": {
      "text/plain": [
       "['  }', ' },', ' \"nbformat\": 4,', ' \"nbformat_minor\": 2', '}']"
      ]
     },
     "execution_count": 62,
     "metadata": {},
     "output_type": "execute_result"
    }
   ],
   "source": [
    "!!tail -n5 jupyter_magic.ipynb"
   ]
  },
  {
   "cell_type": "markdown",
   "metadata": {},
   "source": [
    "Or by assigning the expression to a variable:"
   ]
  },
  {
   "cell_type": "code",
   "execution_count": 63,
   "metadata": {},
   "outputs": [],
   "source": [
    "out = !tail -n5 jupyter_magic.ipynb"
   ]
  },
  {
   "cell_type": "code",
   "execution_count": 64,
   "metadata": {},
   "outputs": [
    {
     "data": {
      "text/plain": [
       "['  }', ' },', ' \"nbformat\": 4,', ' \"nbformat_minor\": 2', '}']"
      ]
     },
     "execution_count": 64,
     "metadata": {},
     "output_type": "execute_result"
    }
   ],
   "source": [
    "out"
   ]
  },
  {
   "cell_type": "markdown",
   "metadata": {},
   "source": [
    "## In summary\n",
    "\n",
    "These are just my favorite shortcuts, the ones I find most helpful. Obviously, there are many more, see `%magic` or `%quickref`. If you think I've missed a really neat one, let me know!"
   ]
  }
 ],
 "metadata": {
  "kernelspec": {
   "display_name": "Python 3",
   "language": "python",
   "name": "python3"
  },
  "language_info": {
   "codemirror_mode": {
    "name": "ipython",
    "version": 3
   },
   "file_extension": ".py",
   "mimetype": "text/x-python",
   "name": "python",
   "nbconvert_exporter": "python",
   "pygments_lexer": "ipython3",
   "version": "3.6.2"
  }
 },
 "nbformat": 4,
 "nbformat_minor": 2
}
